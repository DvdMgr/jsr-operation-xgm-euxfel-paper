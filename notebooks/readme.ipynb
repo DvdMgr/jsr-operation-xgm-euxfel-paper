{
 "cells": [
  {
   "cell_type": "markdown",
   "metadata": {},
   "source": [
    "# Readme\n",
    "\n",
    "Repository containing data and files required to reproduce some of the\n",
    "results of the Operation of X-ray gas monitors at the European XFEL paper.\n",
    "\n",
    "Three figures are reproduced:\n",
    "\n",
    " - [figure 5](./figure_5.ipynb)\n",
    " - [figure 6](./figure_6.ipynb)\n",
    " - [figure 7](./figure_8.ipynb)\n",
    "\n",
    "Paper can be found at:\n",
    "\n",
    " - [EuXFEL Publication Database Record](https://xfel.tind.io/record/1978?ln=en)\n",
    " - [Journal of Synchrotron Radiation](http://scripts.iucr.org/cgi-bin/paper?S1600577519003795)\n",
    "\n",
    "J. Synchrotron Rad. (2019). 26, 1045-1051\n",
    "https://doi.org/10.1107/S1600577519003795\n",
    "\n",
    "Operation of X-ray gas monitors at the European XFEL\n",
    "\n",
    "T. Maltezopoulos, F. Dietrich, W. Freund, U. F. Jastrow, A. Koch,\n",
    "J. Laksman, J. Liu, M. Planas, A. A. Sorokin, K. Tiedtke and J. Grünert\n",
    "\n",
    "    X-ray gas monitors (XGMs) are operated at the European XFEL for\n",
    "    non-invasive single-shot pulse energy measurements and average beam\n",
    "    position monitoring.\n",
    "    They are used for tuning and maintaining the self-amplified spontaneous\n",
    "    emission (SASE) operation and for sorting single-shot experimental data\n",
    "    according to the pulse-resolved energy monitor data. The XGMs were\n",
    "    developed at DESY based on the specific requirements for the European\n",
    "    XFEL. In total, six XGM units are continuously in operation. Here, the\n",
    "    main principle and experimental setup of an XGM are summarized, and the\n",
    "    locations of the six XGMs at the facility are shown.\n",
    "    Pulse energy measurements at 0.134 nm wavelength are presented, exceeding\n",
    "    1 mJ obtained with an absolute measurement uncertainty of 7–10%;\n",
    "    correlations between different XGMs are shown, from which a SASE1 beamline\n",
    "    transmission of 97% isdeduced. Additionally, simultaneous position\n",
    "    measurements close to the undulator and at the end of the tunnel are\n",
    "    shown, along with the correlation of beam position data simultaneously\n",
    "    acquired by an XGM and an imager.\n",
    "\n",
    "Keywords: free-electron lasers; photon diagnostics; hard X-rays.\n"
   ]
  }
 ],
 "metadata": {
  "kernelspec": {
   "display_name": "jsr-xgm-paper",
   "language": "python",
   "name": "jsr-xgm-paper"
  },
  "language_info": {
   "codemirror_mode": {
    "name": "ipython",
    "version": 3
   },
   "file_extension": ".py",
   "mimetype": "text/x-python",
   "name": "python",
   "nbconvert_exporter": "python",
   "pygments_lexer": "ipython3",
   "version": "3.7.6"
  }
 },
 "nbformat": 4,
 "nbformat_minor": 4
}
